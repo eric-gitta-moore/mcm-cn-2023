{
 "cells": [
  {
   "cell_type": "code",
   "execution_count": 2,
   "metadata": {},
   "outputs": [],
   "source": [
    "import numpy as np\n",
    "import matplotlib.pyplot as plt\n",
    "import seaborn as sns\n",
    "import pandas as pd\n",
    "import scipy\n",
    "import sklearn\n",
    "from math import *\n",
    "from prettytable import PrettyTable\n",
    "from functools import partial\n",
    "from decimal import Decimal\n",
    "import sympy\n",
    "\n",
    "plt.rcParams[\"font.sans-serif\"] = [\"Microsoft YaHei\"]\n",
    "plt.rcParams[\"axes.unicode_minus\"] = False  # 解决无法显示符号的问题\n",
    "palette = \"deep\"\n",
    "sns.set(font=\"Microsoft YaHei\", font_scale=1.2, palette=palette)  # 解决Seaborn中文显示问题"
   ]
  },
  {
   "cell_type": "code",
   "execution_count": 3,
   "metadata": {},
   "outputs": [
    {
     "data": {
      "text/latex": [
       "$\\displaystyle 0.3$"
      ],
      "text/plain": [
       "0.300000000000000"
      ]
     },
     "execution_count": 3,
     "metadata": {},
     "output_type": "execute_result"
    }
   ],
   "source": [
    "# 定义线段\n",
    "point1 = sympy.Point(3, 0)  # 起始点\n",
    "k = tan(pi - radians(45))\n",
    "line = sympy.Line(point1, slope=k)\n",
    "\n",
    "\n",
    "p2 = point1 + line.direction.unit * 0.3\n",
    "p2.distance(point1)"
   ]
  },
  {
   "cell_type": "code",
   "execution_count": 4,
   "metadata": {},
   "outputs": [
    {
     "data": {
      "text/latex": [
       "$\\displaystyle \\operatorname{Plane}\\left(\\operatorname{Point3D}\\left(1, 1, 0\\right), \\left( 0, \\  0, \\  1\\right)\\right)$"
      ],
      "text/plain": [
       "Plane(Point3D(1, 1, 0), (0, 0, 1))"
      ]
     },
     "execution_count": 4,
     "metadata": {},
     "output_type": "execute_result"
    }
   ],
   "source": [
    "sympy.Plane((1, 1, 0), normal_vector=(0, 0, 1))"
   ]
  },
  {
   "cell_type": "code",
   "execution_count": 5,
   "metadata": {},
   "outputs": [
    {
     "data": {
      "text/latex": [
       "$\\displaystyle y$"
      ],
      "text/plain": [
       "y"
      ]
     },
     "execution_count": 5,
     "metadata": {},
     "output_type": "execute_result"
    }
   ],
   "source": [
    "sympy.Plane((1, 0, 1), normal_vector=(0, 1, 0)).equation()"
   ]
  },
  {
   "cell_type": "code",
   "execution_count": 14,
   "metadata": {},
   "outputs": [
    {
     "name": "stdout",
     "output_type": "stream",
     "text": [
      "夹角（弧度）: 1.43469578593128\n",
      "夹角（度数）: 82.20201341906699\n"
     ]
    }
   ],
   "source": [
    "import numpy as np\n",
    "from scipy.spatial.transform import Rotation\n",
    "\n",
    "# 定义两个法向量（作为 NumPy 数组）\n",
    "normal_vector1 = np.array([1.0, 2.0, 3.0])\n",
    "normal_vector2 = np.array([-1.0, 0.0, 1.0])\n",
    "\n",
    "# 使用 scipy.spatial.transform.Rotation 计算夹角\n",
    "rotation1 = Rotation.from_euler('xyz', normal_vector1, degrees=False)\n",
    "rotation2 = Rotation.from_euler('xyz', normal_vector2, degrees=False)\n",
    "\n",
    "# 计算两个法向量之间的夹角（弧度）\n",
    "angle_radians = rotation1.inv() * rotation2\n",
    "angle_radians = angle_radians.magnitude()\n",
    "\n",
    "# 将夹角转换为度数\n",
    "angle_degrees = np.degrees(angle_radians)\n",
    "\n",
    "# 打印夹角（弧度和度数）\n",
    "print(\"夹角（弧度）:\", angle_radians)\n",
    "print(\"夹角（度数）:\", angle_degrees)\n"
   ]
  },
  {
   "cell_type": "code",
   "execution_count": 7,
   "metadata": {},
   "outputs": [
    {
     "data": {
      "text/plain": [
       "True"
      ]
     },
     "execution_count": 7,
     "metadata": {},
     "output_type": "execute_result"
    }
   ],
   "source": [
    "[sympy.Point(1,1,1)]==[sympy.Point(1,1,1)]"
   ]
  },
  {
   "cell_type": "code",
   "execution_count": 13,
   "metadata": {},
   "outputs": [
    {
     "data": {
      "text/latex": [
       "$\\displaystyle \\operatorname{Point3D}\\left(0, 1, 0\\right)$"
      ],
      "text/plain": [
       "Point3D(0, 1, 0)"
      ]
     },
     "execution_count": 13,
     "metadata": {},
     "output_type": "execute_result"
    }
   ],
   "source": [
    "test = sympy.Segment3D(sympy.Point(0, 0, 0), sympy.Point(0, 1, 0))\n",
    "test.p2"
   ]
  },
  {
   "cell_type": "code",
   "execution_count": 15,
   "metadata": {},
   "outputs": [
    {
     "data": {
      "text/latex": [
       "$\\displaystyle 0.00833333333333333 \\pi$"
      ],
      "text/plain": [
       "0.00833333333333333*pi"
      ]
     },
     "execution_count": 15,
     "metadata": {},
     "output_type": "execute_result"
    }
   ],
   "source": [
    "sympy.rad(1.5)"
   ]
  },
  {
   "cell_type": "code",
   "execution_count": 18,
   "metadata": {},
   "outputs": [
    {
     "data": {
      "text/plain": [
       "2.398725171099181"
      ]
     },
     "execution_count": 18,
     "metadata": {},
     "output_type": "execute_result"
    }
   ],
   "source": [
    "(1 - cos(radians(1.5))) * 7000"
   ]
  },
  {
   "cell_type": "code",
   "execution_count": 1,
   "metadata": {},
   "outputs": [
    {
     "data": {
      "image/png": "[encoded data removed]",
      "text/plain": [
       "<Figure size 800x800 with 1 Axes>"
      ]
     },
     "metadata": {},
     "output_type": "display_data"
    }
   ],
   "source": [
    "import matplotlib.pyplot as plt  # 导入matplotlib库\n",
    "import numpy as np  # 导入numpy库\n",
    "\n",
    "# 创建画布并引入axisartist工具。\n",
    "import mpl_toolkits.axisartist as axisartist\n",
    "\n",
    "# 创建画布\n",
    "fig = plt.figure(figsize=(8, 8))\n",
    "# 使用axisartist.Subplot方法创建一个绘图区对象ax\n",
    "ax = axisartist.Subplot(fig, 111)\n",
    "# 将绘图区对象添加到画布中\n",
    "fig.add_axes(ax)\n",
    "\n",
    "\n",
    "ax.axis[:].set_visible(False)  # 通过set_visible方法设置绘图区所有坐标轴隐藏\n",
    "ax.axis[\"x\"] = ax.new_floating_axis(0, 0)  # ax.new_floating_axis代表添加新的坐标轴\n",
    "ax.axis[\"x\"].set_axisline_style(\"->\", size=1.0)  # 给x坐标轴加上箭头\n",
    "# 添加y坐标轴，且加上箭头\n",
    "ax.axis[\"y\"] = ax.new_floating_axis(1, 0)\n",
    "ax.axis[\"y\"].set_axisline_style(\"-|>\", size=1.0)\n",
    "# 设置x、y轴上刻度显示方向\n",
    "ax.axis[\"x\"].set_axis_direction(\"top\")\n",
    "ax.axis[\"y\"].set_axis_direction(\"right\")\n",
    "\n",
    "# 在带箭头的x-y坐标轴背景下，绘制函数图像\n",
    "# 生成x步长为0.1的列表数据\n",
    "x = np.arange(-15, 15, 0.1)\n",
    "# 生成sigmiod形式的y数据\n",
    "y = 1 / (1 + np.exp(-x))\n",
    "# 设置x、y坐标轴的范围\n",
    "plt.xlim(-12, 12)\n",
    "plt.ylim(-1, 1)\n",
    "# 绘制图形\n",
    "plt.plot(x, y, c=\"b\")\n",
    "plt.show()"
   ]
  },
  {
   "cell_type": "code",
   "execution_count": null,
   "metadata": {},
   "outputs": [],
   "source": []
  }
 ],
 "metadata": {
  "kernelspec": {
   "display_name": "base",
   "language": "python",
   "name": "python3"
  },
  "language_info": {
   "codemirror_mode": {
    "name": "ipython",
    "version": 3
   },
   "file_extension": ".py",
   "mimetype": "text/x-python",
   "name": "python",
   "nbconvert_exporter": "python",
   "pygments_lexer": "ipython3",
   "version": "3.9.17"
  },
  "orig_nbformat": 4
 },
 "nbformat": 4,
 "nbformat_minor": 2
}
