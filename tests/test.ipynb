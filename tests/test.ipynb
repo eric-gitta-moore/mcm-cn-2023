{
 "cells": [
  {
   "cell_type": "code",
   "execution_count": 1,
   "metadata": {},
   "outputs": [],
   "source": [
    "import numpy as np\n",
    "import matplotlib.pyplot as plt\n",
    "import seaborn as sns\n",
    "import pandas as pd\n",
    "import scipy\n",
    "import sklearn\n",
    "from math import *\n",
    "from prettytable import PrettyTable\n",
    "from functools import partial\n",
    "from decimal import Decimal\n",
    "import sympy\n",
    "\n",
    "plt.rcParams[\"font.sans-serif\"] = [\"Microsoft YaHei\"]\n",
    "plt.rcParams[\"axes.unicode_minus\"] = False  # 解决无法显示符号的问题\n",
    "palette = \"deep\"\n",
    "sns.set(font=\"Microsoft YaHei\", font_scale=1.2, palette=palette)  # 解决Seaborn中文显示问题"
   ]
  },
  {
   "cell_type": "code",
   "execution_count": 27,
   "metadata": {},
   "outputs": [
    {
     "name": "stdout",
     "output_type": "stream",
     "text": [
      "<filter object at 0x7fd8fd7bd6a0>\n"
     ]
    },
    {
     "data": {
      "text/latex": [
       "$\\displaystyle 0.3$"
      ],
      "text/plain": [
       "0.300000000000000"
      ]
     },
     "execution_count": 27,
     "metadata": {},
     "output_type": "execute_result"
    }
   ],
   "source": [
    "# 定义线段\n",
    "point1 = sympy.Point(3, 0)  # 起始点\n",
    "k = tan(pi - radians(45))\n",
    "line = sympy.Line(point1, slope=k)\n",
    "\n",
    "\n",
    "\n",
    "p2 = point1 + line.direction.unit * 0.3\n",
    "p2.distance(point1)"
   ]
  },
  {
   "cell_type": "code",
   "execution_count": 43,
   "metadata": {},
   "outputs": [
    {
     "data": {
      "text/latex": [
       "$\\displaystyle \\operatorname{Plane}\\left(\\operatorname{Point3D}\\left(1, 1, 0\\right), \\left( 0, \\  0, \\  1\\right)\\right)$"
      ],
      "text/plain": [
       "Plane(Point3D(1, 1, 0), (0, 0, 1))"
      ]
     },
     "execution_count": 43,
     "metadata": {},
     "output_type": "execute_result"
    }
   ],
   "source": [
    "sympy.Plane((1, 1, 0), normal_vector=(0, 0, 1))"
   ]
  },
  {
   "cell_type": "code",
   "execution_count": 65,
   "metadata": {},
   "outputs": [
    {
     "data": {
      "text/plain": [
       "sympy.core.symbol.Symbol"
      ]
     },
     "execution_count": 65,
     "metadata": {},
     "output_type": "execute_result"
    }
   ],
   "source": [
    "sympy.Plane((1, 0, 1), normal_vector=(0, 1, 0)).equation()"
   ]
  },
  {
   "cell_type": "code",
   "execution_count": 103,
   "metadata": {},
   "outputs": [
    {
     "name": "stdout",
     "output_type": "stream",
     "text": [
      "夹角（弧度）: 1.43469578593128\n",
      "夹角（度数）: 82.20201341906699\n"
     ]
    }
   ],
   "source": [
    "import numpy as np\n",
    "from scipy.spatial.transform import Rotation\n",
    "\n",
    "# 定义两个法向量（作为 NumPy 数组）\n",
    "normal_vector1 = np.array([1.0, 2.0, 3.0])\n",
    "normal_vector2 = np.array([-1.0, 0.0, 1.0])\n",
    "\n",
    "# 使用 scipy.spatial.transform.Rotation 计算夹角\n",
    "rotation1 = Rotation.from_euler('xyz', normal_vector1, degrees=False)\n",
    "rotation2 = Rotation.from_euler('xyz', normal_vector2, degrees=False)\n",
    "\n",
    "# 计算两个法向量之间的夹角（弧度）\n",
    "angle_radians = rotation1.inv() * rotation2\n",
    "angle_radians = angle_radians.magnitude()\n",
    "\n",
    "# 将夹角转换为度数\n",
    "angle_degrees = np.degrees(angle_radians)\n",
    "\n",
    "# 打印夹角（弧度和度数）\n",
    "print(\"夹角（弧度）:\", angle_radians)\n",
    "print(\"夹角（度数）:\", angle_degrees)\n"
   ]
  },
  {
   "cell_type": "code",
   "execution_count": null,
   "metadata": {},
   "outputs": [],
   "source": []
  }
 ],
 "metadata": {
  "kernelspec": {
   "display_name": "base",
   "language": "python",
   "name": "python3"
  },
  "language_info": {
   "codemirror_mode": {
    "name": "ipython",
    "version": 3
   },
   "file_extension": ".py",
   "mimetype": "text/x-python",
   "name": "python",
   "nbconvert_exporter": "python",
   "pygments_lexer": "ipython3",
   "version": "3.9.17"
  },
  "orig_nbformat": 4
 },
 "nbformat": 4,
 "nbformat_minor": 2
}
