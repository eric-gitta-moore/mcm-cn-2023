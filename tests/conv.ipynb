{
 "cells": [
  {
   "cell_type": "code",
   "execution_count": 2,
   "metadata": {},
   "outputs": [],
   "source": [
    "import os\n",
    "from mcm_cn2023.utils.convertEMF import *"
   ]
  },
  {
   "cell_type": "code",
   "execution_count": 5,
   "metadata": {},
   "outputs": [
    {
     "name": "stderr",
     "output_type": "stream",
     "text": [
      "Failed to get connection\n",
      "** (inkscape:114256): CRITICAL **: 13:17:18.504: dbus_g_proxy_new_for_name: assertion 'connection != NULL' failed\n",
      "\n",
      "** (inkscape:114256): CRITICAL **: 13:17:18.504: dbus_g_proxy_call: assertion 'DBUS_IS_G_PROXY (proxy)' failed\n",
      "\n",
      "** (inkscape:114256): CRITICAL **: 13:17:18.504: dbus_g_connection_register_g_object: assertion 'connection != NULL' failed\n",
      "Failed to get connection\n",
      "** (inkscape:114272): CRITICAL **: 13:17:18.682: dbus_g_proxy_new_for_name: assertion 'connection != NULL' failed\n",
      "\n",
      "** (inkscape:114272): CRITICAL **: 13:17:18.682: dbus_g_proxy_call: assertion 'DBUS_IS_G_PROXY (proxy)' failed\n",
      "\n",
      "** (inkscape:114272): CRITICAL **: 13:17:18.682: dbus_g_connection_register_g_object: assertion 'connection != NULL' failed\n",
      "Failed to get connection\n",
      "** (inkscape:114288): CRITICAL **: 13:17:18.838: dbus_g_proxy_new_for_name: assertion 'connection != NULL' failed\n",
      "\n",
      "** (inkscape:114288): CRITICAL **: 13:17:18.838: dbus_g_proxy_call: assertion 'DBUS_IS_G_PROXY (proxy)' failed\n",
      "\n",
      "** (inkscape:114288): CRITICAL **: 13:17:18.838: dbus_g_connection_register_g_object: assertion 'connection != NULL' failed\n",
      "Failed to get connection\n",
      "** (inkscape:114304): CRITICAL **: 13:17:19.002: dbus_g_proxy_new_for_name: assertion 'connection != NULL' failed\n",
      "\n",
      "** (inkscape:114304): CRITICAL **: 13:17:19.002: dbus_g_proxy_call: assertion 'DBUS_IS_G_PROXY (proxy)' failed\n",
      "\n",
      "** (inkscape:114304): CRITICAL **: 13:17:19.002: dbus_g_connection_register_g_object: assertion 'connection != NULL' failed\n",
      "Failed to get connection\n",
      "** (inkscape:114320): CRITICAL **: 13:17:19.170: dbus_g_proxy_new_for_name: assertion 'connection != NULL' failed\n",
      "\n",
      "** (inkscape:114320): CRITICAL **: 13:17:19.170: dbus_g_proxy_call: assertion 'DBUS_IS_G_PROXY (proxy)' failed\n",
      "\n",
      "** (inkscape:114320): CRITICAL **: 13:17:19.170: dbus_g_connection_register_g_object: assertion 'connection != NULL' failed\n",
      "Failed to get connection\n",
      "** (inkscape:114336): CRITICAL **: 13:17:19.374: dbus_g_proxy_new_for_name: assertion 'connection != NULL' failed\n",
      "\n",
      "** (inkscape:114336): CRITICAL **: 13:17:19.374: dbus_g_proxy_call: assertion 'DBUS_IS_G_PROXY (proxy)' failed\n",
      "\n",
      "** (inkscape:114336): CRITICAL **: 13:17:19.374: dbus_g_connection_register_g_object: assertion 'connection != NULL' failed\n",
      "Failed to get connection\n",
      "** (inkscape:114352): CRITICAL **: 13:17:19.532: dbus_g_proxy_new_for_name: assertion 'connection != NULL' failed\n",
      "\n",
      "** (inkscape:114352): CRITICAL **: 13:17:19.532: dbus_g_proxy_call: assertion 'DBUS_IS_G_PROXY (proxy)' failed\n",
      "\n",
      "** (inkscape:114352): CRITICAL **: 13:17:19.532: dbus_g_connection_register_g_object: assertion 'connection != NULL' failed\n",
      "Failed to get connection\n",
      "** (inkscape:114368): CRITICAL **: 13:17:19.706: dbus_g_proxy_new_for_name: assertion 'connection != NULL' failed\n",
      "\n",
      "** (inkscape:114368): CRITICAL **: 13:17:19.706: dbus_g_proxy_call: assertion 'DBUS_IS_G_PROXY (proxy)' failed\n",
      "\n",
      "** (inkscape:114368): CRITICAL **: 13:17:19.706: dbus_g_connection_register_g_object: assertion 'connection != NULL' failed\n",
      "Failed to get connection\n",
      "** (inkscape:114384): CRITICAL **: 13:17:19.875: dbus_g_proxy_new_for_name: assertion 'connection != NULL' failed\n",
      "\n",
      "** (inkscape:114384): CRITICAL **: 13:17:19.875: dbus_g_proxy_call: assertion 'DBUS_IS_G_PROXY (proxy)' failed\n",
      "\n",
      "** (inkscape:114384): CRITICAL **: 13:17:19.875: dbus_g_connection_register_g_object: assertion 'connection != NULL' failed\n",
      "Failed to get connection\n",
      "** (inkscape:114403): CRITICAL **: 13:17:20.049: dbus_g_proxy_new_for_name: assertion 'connection != NULL' failed\n",
      "\n",
      "** (inkscape:114403): CRITICAL **: 13:17:20.049: dbus_g_proxy_call: assertion 'DBUS_IS_G_PROXY (proxy)' failed\n",
      "\n",
      "** (inkscape:114403): CRITICAL **: 13:17:20.049: dbus_g_connection_register_g_object: assertion 'connection != NULL' failed\n",
      "Failed to get connection\n",
      "** (inkscape:114419): CRITICAL **: 13:17:20.219: dbus_g_proxy_new_for_name: assertion 'connection != NULL' failed\n",
      "\n",
      "** (inkscape:114419): CRITICAL **: 13:17:20.219: dbus_g_proxy_call: assertion 'DBUS_IS_G_PROXY (proxy)' failed\n",
      "\n",
      "** (inkscape:114419): CRITICAL **: 13:17:20.219: dbus_g_connection_register_g_object: assertion 'connection != NULL' failed\n",
      "Failed to get connection\n",
      "** (inkscape:114435): CRITICAL **: 13:17:20.395: dbus_g_proxy_new_for_name: assertion 'connection != NULL' failed\n",
      "\n",
      "** (inkscape:114435): CRITICAL **: 13:17:20.395: dbus_g_proxy_call: assertion 'DBUS_IS_G_PROXY (proxy)' failed\n",
      "\n",
      "** (inkscape:114435): CRITICAL **: 13:17:20.395: dbus_g_connection_register_g_object: assertion 'connection != NULL' failed\n",
      "Failed to get connection\n",
      "** (inkscape:114451): CRITICAL **: 13:17:20.575: dbus_g_proxy_new_for_name: assertion 'connection != NULL' failed\n",
      "\n",
      "** (inkscape:114451): CRITICAL **: 13:17:20.575: dbus_g_proxy_call: assertion 'DBUS_IS_G_PROXY (proxy)' failed\n",
      "\n",
      "** (inkscape:114451): CRITICAL **: 13:17:20.575: dbus_g_connection_register_g_object: assertion 'connection != NULL' failed\n",
      "Failed to get connection\n",
      "** (inkscape:114467): CRITICAL **: 13:17:20.748: dbus_g_proxy_new_for_name: assertion 'connection != NULL' failed\n",
      "\n",
      "** (inkscape:114467): CRITICAL **: 13:17:20.748: dbus_g_proxy_call: assertion 'DBUS_IS_G_PROXY (proxy)' failed\n",
      "\n",
      "** (inkscape:114467): CRITICAL **: 13:17:20.748: dbus_g_connection_register_g_object: assertion 'connection != NULL' failed\n",
      "Failed to get connection\n",
      "** (inkscape:114483): CRITICAL **: 13:17:20.910: dbus_g_proxy_new_for_name: assertion 'connection != NULL' failed\n",
      "\n",
      "** (inkscape:114483): CRITICAL **: 13:17:20.910: dbus_g_proxy_call: assertion 'DBUS_IS_G_PROXY (proxy)' failed\n",
      "\n",
      "** (inkscape:114483): CRITICAL **: 13:17:20.910: dbus_g_connection_register_g_object: assertion 'connection != NULL' failed\n",
      "Failed to get connection\n",
      "** (inkscape:114499): CRITICAL **: 13:17:21.096: dbus_g_proxy_new_for_name: assertion 'connection != NULL' failed\n",
      "\n",
      "** (inkscape:114499): CRITICAL **: 13:17:21.096: dbus_g_proxy_call: assertion 'DBUS_IS_G_PROXY (proxy)' failed\n",
      "\n",
      "** (inkscape:114499): CRITICAL **: 13:17:21.096: dbus_g_connection_register_g_object: assertion 'connection != NULL' failed\n",
      "Failed to get connection\n",
      "** (inkscape:114515): CRITICAL **: 13:17:21.270: dbus_g_proxy_new_for_name: assertion 'connection != NULL' failed\n",
      "\n",
      "** (inkscape:114515): CRITICAL **: 13:17:21.270: dbus_g_proxy_call: assertion 'DBUS_IS_G_PROXY (proxy)' failed\n",
      "\n",
      "** (inkscape:114515): CRITICAL **: 13:17:21.270: dbus_g_connection_register_g_object: assertion 'connection != NULL' failed\n",
      "Failed to get connection\n",
      "** (inkscape:114531): CRITICAL **: 13:17:21.449: dbus_g_proxy_new_for_name: assertion 'connection != NULL' failed\n",
      "\n",
      "** (inkscape:114531): CRITICAL **: 13:17:21.449: dbus_g_proxy_call: assertion 'DBUS_IS_G_PROXY (proxy)' failed\n",
      "\n",
      "** (inkscape:114531): CRITICAL **: 13:17:21.449: dbus_g_connection_register_g_object: assertion 'connection != NULL' failed\n",
      "Failed to get connection\n",
      "** (inkscape:114547): CRITICAL **: 13:17:21.620: dbus_g_proxy_new_for_name: assertion 'connection != NULL' failed\n",
      "\n",
      "** (inkscape:114547): CRITICAL **: 13:17:21.620: dbus_g_proxy_call: assertion 'DBUS_IS_G_PROXY (proxy)' failed\n",
      "\n",
      "** (inkscape:114547): CRITICAL **: 13:17:21.620: dbus_g_connection_register_g_object: assertion 'connection != NULL' failed\n",
      "Failed to get connection\n",
      "** (inkscape:114563): CRITICAL **: 13:17:21.792: dbus_g_proxy_new_for_name: assertion 'connection != NULL' failed\n",
      "\n",
      "** (inkscape:114563): CRITICAL **: 13:17:21.792: dbus_g_proxy_call: assertion 'DBUS_IS_G_PROXY (proxy)' failed\n",
      "\n",
      "** (inkscape:114563): CRITICAL **: 13:17:21.792: dbus_g_connection_register_g_object: assertion 'connection != NULL' failed\n",
      "Failed to get connection\n",
      "** (inkscape:114579): CRITICAL **: 13:17:21.960: dbus_g_proxy_new_for_name: assertion 'connection != NULL' failed\n",
      "\n",
      "** (inkscape:114579): CRITICAL **: 13:17:21.960: dbus_g_proxy_call: assertion 'DBUS_IS_G_PROXY (proxy)' failed\n",
      "\n",
      "** (inkscape:114579): CRITICAL **: 13:17:21.960: dbus_g_connection_register_g_object: assertion 'connection != NULL' failed\n",
      "Failed to get connection\n",
      "** (inkscape:114595): CRITICAL **: 13:17:22.129: dbus_g_proxy_new_for_name: assertion 'connection != NULL' failed\n",
      "\n",
      "** (inkscape:114595): CRITICAL **: 13:17:22.129: dbus_g_proxy_call: assertion 'DBUS_IS_G_PROXY (proxy)' failed\n",
      "\n",
      "** (inkscape:114595): CRITICAL **: 13:17:22.129: dbus_g_connection_register_g_object: assertion 'connection != NULL' failed\n",
      "Failed to get connection\n",
      "** (inkscape:114611): CRITICAL **: 13:17:22.289: dbus_g_proxy_new_for_name: assertion 'connection != NULL' failed\n",
      "\n",
      "** (inkscape:114611): CRITICAL **: 13:17:22.289: dbus_g_proxy_call: assertion 'DBUS_IS_G_PROXY (proxy)' failed\n",
      "\n",
      "** (inkscape:114611): CRITICAL **: 13:17:22.289: dbus_g_connection_register_g_object: assertion 'connection != NULL' failed\n"
     ]
    }
   ],
   "source": [
    "dir = r\"./convert/\"\n",
    "for i in os.listdir(dir):\n",
    "    convertEmf(f\"{dir}{i}\")"
   ]
  },
  {
   "cell_type": "code",
   "execution_count": 7,
   "metadata": {},
   "outputs": [
    {
     "name": "stderr",
     "output_type": "stream",
     "text": [
      "Failed to get connection\n",
      "** (inkscape:115337): CRITICAL **: 13:33:40.323: dbus_g_proxy_new_for_name: assertion 'connection != NULL' failed\n",
      "\n",
      "** (inkscape:115337): CRITICAL **: 13:33:40.323: dbus_g_proxy_call: assertion 'DBUS_IS_G_PROXY (proxy)' failed\n",
      "\n",
      "** (inkscape:115337): CRITICAL **: 13:33:40.323: dbus_g_connection_register_g_object: assertion 'connection != NULL' failed\n",
      "\n",
      "** (inkscape:115337): WARNING **: 13:33:40.474: SPIStyle::readIfUnset(): Invalid style property id: 13 value: rotate(-30deg)\n"
     ]
    },
    {
     "data": {
      "text/plain": [
       "'./组织结构图.emf'"
      ]
     },
     "execution_count": 7,
     "metadata": {},
     "output_type": "execute_result"
    }
   ],
   "source": [
    "convertEmf('./组织结构图.svg')"
   ]
  },
  {
   "cell_type": "code",
   "execution_count": 8,
   "metadata": {},
   "outputs": [
    {
     "name": "stderr",
     "output_type": "stream",
     "text": [
      "Failed to get connection\n",
      "** (inkscape:115754): CRITICAL **: 13:42:08.749: dbus_g_proxy_new_for_name: assertion 'connection != NULL' failed\n",
      "\n",
      "** (inkscape:115754): CRITICAL **: 13:42:08.749: dbus_g_proxy_call: assertion 'DBUS_IS_G_PROXY (proxy)' failed\n",
      "\n",
      "** (inkscape:115754): CRITICAL **: 13:42:08.749: dbus_g_connection_register_g_object: assertion 'connection != NULL' failed\n"
     ]
    },
    {
     "data": {
      "text/plain": [
       "'./绘图2(1).emf'"
      ]
     },
     "execution_count": 8,
     "metadata": {},
     "output_type": "execute_result"
    }
   ],
   "source": [
    "convertEmf('./绘图2(1).svg')"
   ]
  }
 ],
 "metadata": {
  "kernelspec": {
   "display_name": "base",
   "language": "python",
   "name": "python3"
  },
  "language_info": {
   "codemirror_mode": {
    "name": "ipython",
    "version": 3
   },
   "file_extension": ".py",
   "mimetype": "text/x-python",
   "name": "python",
   "nbconvert_exporter": "python",
   "pygments_lexer": "ipython3",
   "version": "3.9.17"
  },
  "orig_nbformat": 4
 },
 "nbformat": 4,
 "nbformat_minor": 2
}
