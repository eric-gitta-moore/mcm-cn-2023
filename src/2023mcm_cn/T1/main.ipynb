{
 "cells": [
  {
   "cell_type": "code",
   "execution_count": 181,
   "metadata": {},
   "outputs": [],
   "source": [
    "import numpy as np\n",
    "import matplotlib.pyplot as plt\n",
    "import seaborn as sns\n",
    "import pandas as pd\n",
    "import scipy\n",
    "import sklearn\n",
    "import math\n",
    "from prettytable import PrettyTable\n",
    "from functools import partial\n",
    "\n",
    "plt.rcParams['font.sans-serif'] = ['Microsoft YaHei']  # 黑体\n",
    "plt.rcParams['axes.unicode_minus'] = False  # 解决无法显示符号的问题\n",
    "palette = 'deep'\n",
    "sns.set(font='Microsoft YaHei', font_scale=1.2,\n",
    "        palette=palette)  # 解决Seaborn中文显示问题\n",
    "\n",
    "\n",
    "def toAngle(x): return x * (math.pi / 180)"
   ]
  },
  {
   "cell_type": "code",
   "execution_count": 182,
   "metadata": {},
   "outputs": [],
   "source": [
    "alpha = 1.5\n",
    "theta = 120"
   ]
  },
  {
   "cell_type": "code",
   "execution_count": 183,
   "metadata": {},
   "outputs": [],
   "source": [
    "def 计算海水深度(x):\n",
    "    return (x, 70-x * math.tan(toAngle(alpha)))\n",
    "\n",
    "\n",
    "def 计算覆盖宽度(距离测线中心点的距离, 海水深度):\n",
    "    val = (海水深度 * math.cos(toAngle(alpha)) * math.sin(toAngle(theta))) / \\\n",
    "        (math.cos(toAngle(alpha - theta / 2))\n",
    "         * math.cos(toAngle(alpha + theta / 2)))\n",
    "    return (距离测线中心点的距离,\n",
    "            val)\n",
    "\n",
    "\n",
    "def 计算重叠率(距离测线中心点的距离, 海水深度, 覆盖宽度):\n",
    "    d = 200\n",
    "    val = 1 - (d / 覆盖宽度)\n",
    "    return (距离测线中心点的距离, val)\n",
    "\n",
    "\n",
    "def 计算重叠率2(距离测线中心点的距离, 深度列表, 覆盖宽度):\n",
    "    print(距离测线中心点的距离, 深度列表, 覆盖宽度)\n",
    "    前一个深度, 当前深度 = 深度列表\n",
    "    if 前一个深度 is None:\n",
    "        return (前一个深度, None)\n",
    "    d = 200\n",
    "    \n",
    "    val = math.sin(toAngle(theta / 2)) \\\n",
    "        * (前一个深度 / math.cos(toAngle(alpha - theta/2))\n",
    "            + 当前深度 / math.cos(toAngle(alpha + theta/2))) \\\n",
    "        - d / math.cos(toAngle(alpha)) \\\n",
    "\n",
    "    val = val / 覆盖宽度\n",
    "    return (距离测线中心点的距离, val)"
   ]
  },
  {
   "cell_type": "code",
   "execution_count": 184,
   "metadata": {},
   "outputs": [
    {
     "name": "stdout",
     "output_type": "stream",
     "text": [
      "-800 (None, 90.94873725534954) 315.8133282933295\n",
      "-600 (90.94873725534954, 85.71155294151215) 297.62756058558364\n",
      "-400 (85.71155294151215, 80.47436862767478) 279.44179287783777\n",
      "-200 (80.47436862767478, 75.23718431383739) 261.25602517009185\n",
      "0 (75.23718431383739, 70.0) 243.07025746234592\n",
      "200 (70.0, 64.76281568616261) 224.88448975460003\n",
      "400 (64.76281568616261, 59.52563137232523) 206.69872204685413\n",
      "600 (59.52563137232523, 54.28844705848784) 188.51295433910823\n",
      "800 (54.28844705848784, 49.05126274465046) 170.32718663136234\n"
     ]
    }
   ],
   "source": [
    "距离测线中心点的距离 = [-800, -600, -400, -200, 0, 200, 400, 600, 800]\n",
    "海水深度 = dict(map(计算海水深度, 距离测线中心点的距离))\n",
    "覆盖宽度 = dict(map(计算覆盖宽度, 距离测线中心点的距离, 海水深度.values()))\n",
    "重叠率 = dict(map(计算重叠率, 距离测线中心点的距离, 海水深度.values(), 覆盖宽度.values()))\n",
    "\n",
    "\n",
    "def 转二元组(x):\n",
    "    tmp = [None] + list(x)\n",
    "    result = []\n",
    "    for idx, val in enumerate(tmp):\n",
    "        if val is None:\n",
    "            continue\n",
    "        result.append((tmp[idx - 1], val))\n",
    "\n",
    "    return result\n",
    "\n",
    "重叠率2 = dict(map(计算重叠率2, 距离测线中心点的距离, 转二元组(海水深度.values()), 覆盖宽度.values()))"
   ]
  },
  {
   "cell_type": "code",
   "execution_count": 185,
   "metadata": {},
   "outputs": [
    {
     "data": {
      "text/plain": [
       "{'距离测线中心点的距离': [-800, -600, -400, -200, 0, 200, 400, 600, 800],\n",
       " '海水深度': dict_values([90.94873725534954, 85.71155294151215, 80.47436862767478, 75.23718431383739, 70.0, 64.76281568616261, 59.52563137232523, 54.28844705848784, 49.05126274465046]),\n",
       " '覆盖宽度': dict_values([315.8133282933295, 297.62756058558364, 279.44179287783777, 261.25602517009185, 243.07025746234592, 224.88448975460003, 206.69872204685413, 188.51295433910823, 170.32718663136234]),\n",
       " '重叠率': dict_values([0.36671450479683787, 0.3280192210476105, 0.284287443405314, 0.23446741613025324, 0.17719262698776683, 0.11065453994517205, 0.032408144474815215, -0.06093504661874949, -0.1742106703896793]),\n",
       " '重叠率2': dict_values([None, 0.3569544259727246, 0.3151057199709473, 0.2674309217615544, 0.21262236054223005, 0.1489493750683201, 0.07407223591972305, -0.01525163728968, -0.12364966115077022])}"
      ]
     },
     "execution_count": 185,
     "metadata": {},
     "output_type": "execute_result"
    }
   ],
   "source": [
    "data = {\n",
    "    '距离测线中心点的距离': 距离测线中心点的距离,\n",
    "    '海水深度': 海水深度.values(),\n",
    "    '覆盖宽度': 覆盖宽度.values(),\n",
    "    '重叠率': 重叠率.values(),\n",
    "    '重叠率2': 重叠率2.values(),\n",
    "}\n",
    "data"
   ]
  },
  {
   "cell_type": "code",
   "execution_count": 186,
   "metadata": {},
   "outputs": [
    {
     "data": {
      "text/html": [
       "<div>\n",
       "<style scoped>\n",
       "    .dataframe tbody tr th:only-of-type {\n",
       "        vertical-align: middle;\n",
       "    }\n",
       "\n",
       "    .dataframe tbody tr th {\n",
       "        vertical-align: top;\n",
       "    }\n",
       "\n",
       "    .dataframe thead th {\n",
       "        text-align: right;\n",
       "    }\n",
       "</style>\n",
       "<table border=\"1\" class=\"dataframe\">\n",
       "  <thead>\n",
       "    <tr style=\"text-align: right;\">\n",
       "      <th></th>\n",
       "      <th>0</th>\n",
       "      <th>1</th>\n",
       "      <th>2</th>\n",
       "      <th>3</th>\n",
       "      <th>4</th>\n",
       "      <th>5</th>\n",
       "      <th>6</th>\n",
       "      <th>7</th>\n",
       "      <th>8</th>\n",
       "    </tr>\n",
       "  </thead>\n",
       "  <tbody>\n",
       "    <tr>\n",
       "      <th>距离测线中心点的距离</th>\n",
       "      <td>-800.000000</td>\n",
       "      <td>-600.000000</td>\n",
       "      <td>-400.000000</td>\n",
       "      <td>-200.000000</td>\n",
       "      <td>0.000000</td>\n",
       "      <td>200.000000</td>\n",
       "      <td>400.000000</td>\n",
       "      <td>600.000000</td>\n",
       "      <td>800.000000</td>\n",
       "    </tr>\n",
       "    <tr>\n",
       "      <th>海水深度</th>\n",
       "      <td>90.948737</td>\n",
       "      <td>85.711553</td>\n",
       "      <td>80.474369</td>\n",
       "      <td>75.237184</td>\n",
       "      <td>70.000000</td>\n",
       "      <td>64.762816</td>\n",
       "      <td>59.525631</td>\n",
       "      <td>54.288447</td>\n",
       "      <td>49.051263</td>\n",
       "    </tr>\n",
       "    <tr>\n",
       "      <th>覆盖宽度</th>\n",
       "      <td>315.813328</td>\n",
       "      <td>297.627561</td>\n",
       "      <td>279.441793</td>\n",
       "      <td>261.256025</td>\n",
       "      <td>243.070257</td>\n",
       "      <td>224.884490</td>\n",
       "      <td>206.698722</td>\n",
       "      <td>188.512954</td>\n",
       "      <td>170.327187</td>\n",
       "    </tr>\n",
       "    <tr>\n",
       "      <th>重叠率</th>\n",
       "      <td>0.366715</td>\n",
       "      <td>0.328019</td>\n",
       "      <td>0.284287</td>\n",
       "      <td>0.234467</td>\n",
       "      <td>0.177193</td>\n",
       "      <td>0.110655</td>\n",
       "      <td>0.032408</td>\n",
       "      <td>-0.060935</td>\n",
       "      <td>-0.174211</td>\n",
       "    </tr>\n",
       "    <tr>\n",
       "      <th>重叠率2</th>\n",
       "      <td>NaN</td>\n",
       "      <td>0.356954</td>\n",
       "      <td>0.315106</td>\n",
       "      <td>0.267431</td>\n",
       "      <td>0.212622</td>\n",
       "      <td>0.148949</td>\n",
       "      <td>0.074072</td>\n",
       "      <td>-0.015252</td>\n",
       "      <td>-0.123650</td>\n",
       "    </tr>\n",
       "  </tbody>\n",
       "</table>\n",
       "</div>"
      ],
      "text/plain": [
       "                     0           1           2           3           4  \\\n",
       "距离测线中心点的距离 -800.000000 -600.000000 -400.000000 -200.000000    0.000000   \n",
       "海水深度         90.948737   85.711553   80.474369   75.237184   70.000000   \n",
       "覆盖宽度        315.813328  297.627561  279.441793  261.256025  243.070257   \n",
       "重叠率           0.366715    0.328019    0.284287    0.234467    0.177193   \n",
       "重叠率2               NaN    0.356954    0.315106    0.267431    0.212622   \n",
       "\n",
       "                     5           6           7           8  \n",
       "距离测线中心点的距离  200.000000  400.000000  600.000000  800.000000  \n",
       "海水深度         64.762816   59.525631   54.288447   49.051263  \n",
       "覆盖宽度        224.884490  206.698722  188.512954  170.327187  \n",
       "重叠率           0.110655    0.032408   -0.060935   -0.174211  \n",
       "重叠率2          0.148949    0.074072   -0.015252   -0.123650  "
      ]
     },
     "execution_count": 186,
     "metadata": {},
     "output_type": "execute_result"
    }
   ],
   "source": [
    "df = pd.DataFrame(data)\n",
    "df.T"
   ]
  },
  {
   "cell_type": "code",
   "execution_count": 187,
   "metadata": {},
   "outputs": [],
   "source": [
    "df.T.to_excel('第一问ans.xlsx')"
   ]
  },
  {
   "cell_type": "code",
   "execution_count": null,
   "metadata": {},
   "outputs": [],
   "source": []
  }
 ],
 "metadata": {
  "kernelspec": {
   "display_name": "base",
   "language": "python",
   "name": "python3"
  },
  "language_info": {
   "codemirror_mode": {
    "name": "ipython",
    "version": 3
   },
   "file_extension": ".py",
   "mimetype": "text/x-python",
   "name": "python",
   "nbconvert_exporter": "python",
   "pygments_lexer": "ipython3",
   "version": "3.9.17"
  },
  "orig_nbformat": 4
 },
 "nbformat": 4,
 "nbformat_minor": 2
}
