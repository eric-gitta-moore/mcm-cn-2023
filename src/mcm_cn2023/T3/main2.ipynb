{
 "cells": [
  {
   "cell_type": "code",
   "execution_count": 1,
   "metadata": {},
   "outputs": [],
   "source": [
    "import numpy as np\n",
    "import matplotlib.pyplot as plt\n",
    "import seaborn as sns\n",
    "import pandas as pd\n",
    "import scipy\n",
    "import sklearn\n",
    "from math import *\n",
    "from prettytable import PrettyTable\n",
    "from functools import partial\n",
    "from decimal import Decimal\n",
    "import sympy\n",
    "import time\n",
    "\n",
    "plt.rcParams[\"font.sans-serif\"] = [\"Microsoft YaHei\"]\n",
    "plt.rcParams[\"axes.unicode_minus\"] = False  # 解决无法显示符号的问题\n",
    "# palette = \"deep\"\n",
    "# sns.set(font=\"Microsoft YaHei\", font_scale=1.2, palette=palette)  # 解决Seaborn中文显示问题"
   ]
  },
  {
   "cell_type": "code",
   "execution_count": 2,
   "metadata": {},
   "outputs": [],
   "source": [
    "from mcm_cn2023.utils.util import *"
   ]
  },
  {
   "cell_type": "code",
   "execution_count": 3,
   "metadata": {},
   "outputs": [],
   "source": [
    "beta = radians(120)\n",
    "alpha = radians(1.5)\n",
    "O = sympy.Point2D(0, 0)\n",
    "A1 = O\n",
    "C = sympy.Point2D(nm2m(4), tan(alpha) * nm2m(4))\n",
    "斜坡 = sympy.Line2D(O, C)\n",
    "海水总深度 = 110 - nm2m(2) * tan(alpha) + C.y"
   ]
  },
  {
   "cell_type": "code",
   "execution_count": 4,
   "metadata": {},
   "outputs": [
    {
     "name": "stdout",
     "output_type": "stream",
     "text": [
      "206.992653492269\n",
      "7408\n"
     ]
    }
   ],
   "source": [
    "print(海水总深度)\n",
    "print(C.x)"
   ]
  },
  {
   "cell_type": "code",
   "execution_count": 5,
   "metadata": {},
   "outputs": [],
   "source": [
    "def aim(参考点A: sympy.Point2D):\n",
    "    print(\"======================\")\n",
    "    A = 参考点A\n",
    "    A到M的水平距离 = (海水总深度 - A.y) * tan(beta / 2)\n",
    "    M = sympy.Point2D(\n",
    "        A.x + A到M的水平距离,\n",
    "        海水总深度,\n",
    "    )\n",
    "\n",
    "    右侧扫描线 = sympy.Line2D(\n",
    "        M,\n",
    "        (M.x + A到M的水平距离, A.y),\n",
    "    )\n",
    "    B = 斜坡.intersection(右侧扫描线)[0]\n",
    "\n",
    "    AB = sqrt((A.x - B.x) ** 2 + (A.y - B.y) ** 2)\n",
    "    print(f\"AB.length: {float(AB)}\")\n",
    "    ANext = B - 斜坡.direction.unit * AB * 0.1\n",
    "    return M, B, ANext, AB"
   ]
  },
  {
   "cell_type": "code",
   "execution_count": 6,
   "metadata": {},
   "outputs": [],
   "source": [
    "def solve():\n",
    "    ArrM = []\n",
    "\n",
    "    ANext = A1\n",
    "    while True:\n",
    "        M, B, ANext, AB = aim(ANext)\n",
    "        ArrM.append(M)\n",
    "        print(f'B.x >= C.x {float(B.x)} {float(C.x)}')\n",
    "        if B.x >= C.x:\n",
    "            break\n",
    "        \n",
    "    return ArrM"
   ]
  },
  {
   "cell_type": "code",
   "execution_count": 7,
   "metadata": {},
   "outputs": [
    {
     "name": "stdout",
     "output_type": "stream",
     "text": [
      "======================\n",
      "AB.length: 686.1679951925146\n",
      "B.x >= C.x 685.9328625579902 7408.0\n",
      "======================\n",
      "AB.length: 632.5800002305992\n",
      "B.x >= C.x 1249.7028071657494 7408.0\n",
      "======================\n",
      "AB.length: 583.1770929209274\n",
      "B.x >= C.x 1769.44373677575 7408.0\n",
      "======================\n",
      "AB.length: 537.632428441807\n",
      "B.x >= C.x 2248.594206742364 7408.0\n",
      "======================\n",
      "AB.length: 495.6446877302711\n",
      "B.x >= C.x 2690.324229893527 7408.0\n",
      "======================\n",
      "AB.length: 456.93608398442365\n",
      "B.x >= C.x 3097.556249026724 7408.0\n",
      "======================\n",
      "AB.length: 421.25052485307674\n",
      "B.x >= C.x 3472.9844715058325 7408.0\n",
      "======================\n",
      "AB.length: 388.3519181537232\n",
      "B.x >= C.x 3819.092693874592 7408.0\n",
      "======================\n",
      "AB.length: 358.0226099095619\n",
      "B.x >= C.x 4138.170734412483 7408.0\n",
      "======================\n",
      "AB.length: 330.06194437209444\n",
      "B.x >= C.x 4432.329582349427 7408.0\n",
      "======================\n",
      "AB.length: 304.28493650223163\n",
      "B.x >= C.x 4703.5153639648815 7408.0\n",
      "======================\n",
      "AB.length: 280.5210481272079\n",
      "B.x >= C.x 4953.5222179696475 7408.0\n",
      "======================\n",
      "AB.length: 258.6130596767556\n",
      "B.x >= C.x 5184.004165352839 7408.0\n",
      "======================\n",
      "AB.length: 238.41603003366077\n",
      "B.x >= C.x 5396.4860522235585 7408.0\n",
      "======================\n",
      "AB.length: 219.7963376175231\n",
      "B.x >= C.x 5592.373638044242 7408.0\n",
      "======================\n",
      "AB.length: 202.63079635733618\n",
      "B.x >= C.x 5772.962895998268 7408.0\n",
      "======================\n",
      "AB.length: 186.80584070449336\n",
      "B.x >= C.x 5939.448587022307 7408.0\n",
      "======================\n",
      "AB.length: 172.21677429413464\n",
      "B.x >= C.x 6092.932164228255 7408.0\n",
      "======================\n",
      "AB.length: 158.76707728422812\n",
      "B.x >= C.x 6234.429060009716 7408.0\n",
      "======================\n",
      "AB.length: 146.3677677897159\n",
      "B.x >= C.x 6364.875404043814 7408.0\n",
      "======================\n",
      "AB.length: 134.93681318696963\n",
      "B.x >= C.x 6485.134216633895 7408.0\n",
      "======================\n",
      "AB.length: 124.39858739400438\n",
      "B.x >= C.x 6596.0011183678025 7408.0\n",
      "======================\n",
      "AB.length: 114.68337053569078\n",
      "B.x >= C.x 6698.209593866189 7408.0\n",
      "======================\n",
      "AB.length: 105.72688768375755\n",
      "B.x >= C.x 6792.435844445236 7408.0\n",
      "======================\n",
      "AB.length: 97.46988362027231\n",
      "B.x >= C.x 6879.303261798763 7408.0\n",
      "======================\n",
      "AB.length: 89.85773081078746\n",
      "B.x >= C.x 6959.386552296897 7408.0\n",
      "======================\n",
      "AB.length: 82.84006799393656\n",
      "B.x >= C.x 7033.215539187441 7408.0\n",
      "======================\n",
      "AB.length: 76.37046699621207\n",
      "B.x >= C.x 7101.278667854848 7408.0\n",
      "======================\n",
      "AB.length: 70.40612556772544\n",
      "B.x >= C.x 7164.026237327316 7408.0\n",
      "======================\n",
      "AB.length: 64.90758420664791\n",
      "B.x >= C.x 7221.873379411267 7408.0\n",
      "======================\n",
      "AB.length: 59.83846509905165\n",
      "B.x >= C.x 7275.202805162964 7408.0\n",
      "======================\n",
      "AB.length: 55.16523144675943\n",
      "B.x >= C.x 7324.367336867533 7408.0\n",
      "======================\n",
      "AB.length: 50.85696559123128\n",
      "B.x >= C.x 7369.692242276865 7408.0\n",
      "======================\n",
      "AB.length: 46.88516446530608\n",
      "B.x >= C.x 7411.477386549363 7408.0\n"
     ]
    }
   ],
   "source": [
    "test = solve()"
   ]
  },
  {
   "cell_type": "code",
   "execution_count": 8,
   "metadata": {},
   "outputs": [
    {
     "data": {
      "text/html": [
       "<div>\n",
       "<style scoped>\n",
       "    .dataframe tbody tr th:only-of-type {\n",
       "        vertical-align: middle;\n",
       "    }\n",
       "\n",
       "    .dataframe tbody tr th {\n",
       "        vertical-align: top;\n",
       "    }\n",
       "\n",
       "    .dataframe thead th {\n",
       "        text-align: right;\n",
       "    }\n",
       "</style>\n",
       "<table border=\"1\" class=\"dataframe\">\n",
       "  <thead>\n",
       "    <tr style=\"text-align: right;\">\n",
       "      <th></th>\n",
       "      <th>0</th>\n",
       "      <th>1</th>\n",
       "      <th>2</th>\n",
       "      <th>3</th>\n",
       "      <th>4</th>\n",
       "      <th>5</th>\n",
       "      <th>6</th>\n",
       "      <th>7</th>\n",
       "      <th>8</th>\n",
       "      <th>9</th>\n",
       "      <th>...</th>\n",
       "      <th>24</th>\n",
       "      <th>25</th>\n",
       "      <th>26</th>\n",
       "      <th>27</th>\n",
       "      <th>28</th>\n",
       "      <th>29</th>\n",
       "      <th>30</th>\n",
       "      <th>31</th>\n",
       "      <th>32</th>\n",
       "      <th>33</th>\n",
       "    </tr>\n",
       "  </thead>\n",
       "  <tbody>\n",
       "    <tr>\n",
       "      <th>res</th>\n",
       "      <td>358.521793</td>\n",
       "      <td>947.861718</td>\n",
       "      <td>1491.175678</td>\n",
       "      <td>1992.058184</td>\n",
       "      <td>2453.823025</td>\n",
       "      <td>2879.525194</td>\n",
       "      <td>3271.981093</td>\n",
       "      <td>3633.787174</td>\n",
       "      <td>3967.33711</td>\n",
       "      <td>4274.837634</td>\n",
       "      <td>...</td>\n",
       "      <td>6832.794653</td>\n",
       "      <td>6916.510149</td>\n",
       "      <td>6993.687675</td>\n",
       "      <td>7064.837831</td>\n",
       "      <td>7130.431338</td>\n",
       "      <td>7190.902157</td>\n",
       "      <td>7246.650357</td>\n",
       "      <td>7298.044763</td>\n",
       "      <td>7345.425396</td>\n",
       "      <td>7389.10572</td>\n",
       "    </tr>\n",
       "  </tbody>\n",
       "</table>\n",
       "<p>1 rows × 34 columns</p>\n",
       "</div>"
      ],
      "text/plain": [
       "             0           1            2            3            4   \\\n",
       "res  358.521793  947.861718  1491.175678  1992.058184  2453.823025   \n",
       "\n",
       "              5            6            7           8            9   ...  \\\n",
       "res  2879.525194  3271.981093  3633.787174  3967.33711  4274.837634  ...   \n",
       "\n",
       "              24           25           26           27           28  \\\n",
       "res  6832.794653  6916.510149  6993.687675  7064.837831  7130.431338   \n",
       "\n",
       "              29           30           31           32          33  \n",
       "res  7190.902157  7246.650357  7298.044763  7345.425396  7389.10572  \n",
       "\n",
       "[1 rows x 34 columns]"
      ]
     },
     "execution_count": 8,
     "metadata": {},
     "output_type": "execute_result"
    }
   ],
   "source": [
    "df = pd.DataFrame()\n",
    "df[\"res\"] = list(map(lambda x: float(x.x), test))\n",
    "\n",
    "df.T"
   ]
  },
  {
   "cell_type": "code",
   "execution_count": 9,
   "metadata": {},
   "outputs": [],
   "source": [
    "dfT = df.T"
   ]
  },
  {
   "cell_type": "code",
   "execution_count": 10,
   "metadata": {},
   "outputs": [
    {
     "data": {
      "image/png": "[encoded data removed]",
      "text/plain": [
       "<Figure size 640x480 with 1 Axes>"
      ]
     },
     "metadata": {},
     "output_type": "display_data"
    }
   ],
   "source": [
    "sns.scatterplot(df)\n",
    "plt.show()"
   ]
  },
  {
   "cell_type": "code",
   "execution_count": 11,
   "metadata": {},
   "outputs": [],
   "source": [
    "from mcm_cn2023.utils.convertEMF import exportEmf"
   ]
  },
  {
   "cell_type": "code",
   "execution_count": 14,
   "metadata": {},
   "outputs": [
    {
     "name": "stderr",
     "output_type": "stream",
     "text": [
      "Failed to get connection\n",
      "** (inkscape:75072): CRITICAL **: 02:59:52.713: dbus_g_proxy_new_for_name: assertion 'connection != NULL' failed\n",
      "\n",
      "** (inkscape:75072): CRITICAL **: 02:59:52.713: dbus_g_proxy_call: assertion 'DBUS_IS_G_PROXY (proxy)' failed\n",
      "\n",
      "** (inkscape:75072): CRITICAL **: 02:59:52.713: dbus_g_connection_register_g_object: assertion 'connection != NULL' failed\n"
     ]
    },
    {
     "data": {
      "image/png": "[encoded data removed]",
      "text/plain": [
       "<Figure size 800x400 with 1 Axes>"
      ]
     },
     "metadata": {},
     "output_type": "display_data"
    }
   ],
   "source": [
    "# 创建画布并引入axisartist工具。\n",
    "import mpl_toolkits.axisartist as axisartist\n",
    "\n",
    "# 创建画布\n",
    "fig = plt.figure(figsize=(8, 4))\n",
    "# 使用axisartist.Subplot方法创建一个绘图区对象ax\n",
    "ax = axisartist.Subplot(fig, 111)\n",
    "# 将绘图区对象添加到画布中\n",
    "fig.add_axes(ax)\n",
    "\n",
    "ax.axis[:].set_visible(False)  # 通过set_visible方法设置绘图区所有坐标轴隐藏\n",
    "ax.axis[\"x\"] = ax.new_floating_axis(0, 0)  # ax.new_floating_axis代表添加新的坐标轴\n",
    "ax.axis[\"x\"].set_axisline_style(\"->\", size=1.0)  # 给x坐标轴加上箭头\n",
    "# 添加y坐标轴，且加上箭头\n",
    "ax.axis[\"y\"] = ax.new_floating_axis(1, 0)\n",
    "ax.axis[\"y\"].set_axisline_style(\"-|>\", size=1.0)\n",
    "# 设置x、y轴上刻度显示方向\n",
    "ax.axis[\"x\"].set_axis_direction(\"top\")\n",
    "ax.axis[\"y\"].set_axis_direction(\"right\")\n",
    "\n",
    "# 设置x、y坐标轴的范围\n",
    "plt.xlim(-1, nm2m(4) + 100)\n",
    "plt.ylim(-1, nm2m(2) + 0)\n",
    "# 绘制图形\n",
    "list(map(lambda x: plt.axvline(x=x), df[\"res\"]))\n",
    "plt.tight_layout()\n",
    "exportEmf('第三问ans')\n",
    "plt.show()"
   ]
  },
  {
   "cell_type": "code",
   "execution_count": 13,
   "metadata": {},
   "outputs": [
    {
     "data": {
      "image/png": "[encoded data removed]",
      "text/plain": [
       "<Figure size 640x480 with 1 Axes>"
      ]
     },
     "metadata": {},
     "output_type": "display_data"
    }
   ],
   "source": [
    "import matplotlib.pyplot as plt\n",
    "import numpy as np\n",
    "\n",
    "# 创建一个时间序列\n",
    "t = np.linspace(0, 10, 1000)\n",
    "\n",
    "# 生成方波信号\n",
    "frequency = 1  # 方波的频率\n",
    "amplitude = 1  # 方波的振幅\n",
    "square_wave = amplitude * np.sign(np.sin(2 * np.pi * frequency * t))\n",
    "\n",
    "# 绘制方波图形\n",
    "plt.plot(t, square_wave, linewidth=2)\n",
    "plt.title('方波图形')\n",
    "plt.xlabel('时间')\n",
    "plt.ylabel('幅度')\n",
    "plt.grid(True)\n",
    "\n",
    "# 显示图形\n",
    "plt.show()\n"
   ]
  },
  {
   "cell_type": "code",
   "execution_count": null,
   "metadata": {},
   "outputs": [],
   "source": []
  },
  {
   "cell_type": "code",
   "execution_count": null,
   "metadata": {},
   "outputs": [],
   "source": []
  },
  {
   "cell_type": "code",
   "execution_count": null,
   "metadata": {},
   "outputs": [],
   "source": []
  },
  {
   "cell_type": "code",
   "execution_count": null,
   "metadata": {},
   "outputs": [],
   "source": []
  },
  {
   "cell_type": "code",
   "execution_count": null,
   "metadata": {},
   "outputs": [],
   "source": []
  }
 ],
 "metadata": {
  "kernelspec": {
   "display_name": "base",
   "language": "python",
   "name": "python3"
  },
  "language_info": {
   "codemirror_mode": {
    "name": "ipython",
    "version": 3
   },
   "file_extension": ".py",
   "mimetype": "text/x-python",
   "name": "python",
   "nbconvert_exporter": "python",
   "pygments_lexer": "ipython3",
   "version": "3.9.17"
  },
  "orig_nbformat": 4
 },
 "nbformat": 4,
 "nbformat_minor": 2
}
