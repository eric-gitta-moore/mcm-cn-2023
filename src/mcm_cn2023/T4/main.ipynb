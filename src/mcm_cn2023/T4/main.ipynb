{
 "cells": [
  {
   "cell_type": "code",
   "execution_count": 74,
   "metadata": {},
   "outputs": [],
   "source": [
    "import numpy as np\n",
    "import matplotlib.pyplot as plt\n",
    "import seaborn as sns\n",
    "import pandas as pd\n",
    "import scipy\n",
    "import sklearn\n",
    "from math import *\n",
    "from prettytable import PrettyTable\n",
    "from functools import partial\n",
    "from decimal import Decimal\n",
    "import sympy\n",
    "import time\n",
    "\n",
    "plt.rcParams[\"font.sans-serif\"] = [\"Microsoft YaHei\"]\n",
    "plt.rcParams[\"axes.unicode_minus\"] = False  # 解决无法显示符号的问题\n",
    "# palette = \"deep\"\n",
    "# sns.set(font=\"Microsoft YaHei\", font_scale=1.2, palette=palette)  # 解决Seaborn中文显示问题"
   ]
  },
  {
   "cell_type": "code",
   "execution_count": 75,
   "metadata": {},
   "outputs": [],
   "source": [
    "from mcm_cn2023.utils.util import *"
   ]
  },
  {
   "cell_type": "code",
   "execution_count": 76,
   "metadata": {},
   "outputs": [
    {
     "data": {
      "text/plain": [
       "'\\n200,0,-197.2\\n0,0,-24.4\\n200,250,-65.20\\n\\n\\n0,250,-84.4\\n'"
      ]
     },
     "execution_count": 76,
     "metadata": {},
     "output_type": "execute_result"
    }
   ],
   "source": [
    "'''\n",
    "200,0,-197.2\n",
    "0,0,-24.4\n",
    "200,250,-65.20\n",
    "\n",
    "\n",
    "0,250,-84.4\n",
    "'''"
   ]
  },
  {
   "cell_type": "code",
   "execution_count": 77,
   "metadata": {},
   "outputs": [],
   "source": [
    "A = sympy.Point3D(nm2m(200 * 0.02), 0, 197.2)\n",
    "B = sympy.Point3D(0, 0, 24.4)\n",
    "C = sympy.Point3D(nm2m(200 * 0.02), nm2m(250 * 0.02), 65.20)\n",
    "# 假设 C 抬高搞和 B 一样的高度\n",
    "BC平均z = (B.z + C.z) / 2\n",
    "C = sympy.Point3D(nm2m(200 * 0.02), nm2m(250 * 0.02), BC平均z)\n",
    "B = sympy.Point3D(0, 0, BC平均z)\n",
    "\n",
    "D = sympy.Point3D(0, nm2m(250 * 0.02), 84.4)\n",
    "\n",
    "ABC = sympy.Plane(A, B, C)\n",
    "BCD = sympy.Plane(B, C, D)\n",
    "\n",
    "xoy = sympy.Plane((1, 0, 0), (0, 1, 0), (1, 1, 0))"
   ]
  },
  {
   "cell_type": "code",
   "execution_count": 78,
   "metadata": {},
   "outputs": [
    {
     "name": "stdout",
     "output_type": "stream",
     "text": [
      "ABC坡度 1.5091350335178098\n",
      "BCD坡度 0.39222203141528517\n"
     ]
    }
   ],
   "source": [
    "ABC坡度 = 计算两平面夹角(ABC, xoy, False)\n",
    "BCD坡度 = 计算两向量夹角(\n",
    "    np.array(BCD.normal_vector).astype(float),\n",
    "    -np.array(xoy.normal_vector).astype(float),\n",
    "    False,\n",
    ")\n",
    "\n",
    "print(f\"ABC坡度 {degrees(ABC坡度)}\")\n",
    "print(f\"BCD坡度 {degrees(BCD坡度)}\")"
   ]
  },
  {
   "cell_type": "code",
   "execution_count": 79,
   "metadata": {},
   "outputs": [],
   "source": [
    "def 求解(坡度: float, 海水总深度: float, 斜坡地面长度: float, 长度计算函数):\n",
    "    theta = radians(120)\n",
    "    alpha = 坡度\n",
    "    O = sympy.Point2D(0, 0)\n",
    "    A1 = O\n",
    "    C = sympy.Point2D(斜坡地面长度, tan(alpha) * 斜坡地面长度)\n",
    "    斜坡 = sympy.Line2D(O, C)\n",
    "\n",
    "    def aim(参考点A: sympy.Point2D):\n",
    "        # print(\"======================\")\n",
    "        A = 参考点A\n",
    "        A到M的水平距离 = (海水总深度 - A.y) * tan(theta / 2)\n",
    "        M = sympy.Point2D(\n",
    "            A.x + A到M的水平距离,\n",
    "            海水总深度,\n",
    "        )\n",
    "\n",
    "        右侧扫描线 = sympy.Line2D(\n",
    "            M,\n",
    "            (M.x + A到M的水平距离, A.y),\n",
    "        )\n",
    "        # B = 斜坡.intersection(右侧扫描线)[0]\n",
    "        Bpos = find_intersection(斜坡.p1, 斜坡.p2, 右侧扫描线.p1, 右侧扫描线.p2)\n",
    "        B = sympy.Point2D(Bpos[0], Bpos[1])\n",
    "\n",
    "        AB = sqrt((A.x - B.x) ** 2 + (A.y - B.y) ** 2)\n",
    "        ANext = B - 斜坡.direction.unit * AB * 0.1\n",
    "        return M, B, ANext, AB\n",
    "\n",
    "    def solve():\n",
    "        ArrM = []\n",
    "\n",
    "        ANext = A1\n",
    "        beforeBx = 0\n",
    "        总长度 = 0\n",
    "        while True:\n",
    "            M, B, ANext, AB = aim(ANext)\n",
    "            ArrM.append(M)\n",
    "            print(f\"B.x >= C.x {float(B.x)} {float(C.x)} 总长度：{总长度}\")\n",
    "            if B.x >= C.x or B.x - beforeBx < 1:\n",
    "                break\n",
    "\n",
    "            总长度 += 长度计算函数(float(M.x))\n",
    "            beforeBx = float(B.x)\n",
    "\n",
    "        return ArrM\n",
    "\n",
    "    return solve()"
   ]
  },
  {
   "cell_type": "code",
   "execution_count": 80,
   "metadata": {},
   "outputs": [
    {
     "name": "stdout",
     "output_type": "stream",
     "text": [
      "B.x >= C.x 653.3092346362032 5784.67614035397 总长度：0\n",
      "B.x >= C.x 1189.9684364852494 5784.67614035397 总长度：700.198859467793\n",
      "B.x >= C.x 1684.4716870801956 5784.67614035397 总长度：2550.7508477011497\n",
      "B.x >= C.x 2140.130444083586 5784.67614035397 总长度：5461.292787745031\n",
      "B.x >= C.x 2559.9960416991294 5784.67614035397 总长度：9348.559761035853\n",
      "B.x >= C.x 2946.880124033905 5784.67614035397 总长度：14135.827521071627\n",
      "B.x >= C.x 3303.3734733677384 5784.67614035397 总长度：19752.398706912798\n",
      "B.x >= C.x 3631.863359413982 5784.67614035397 总长度：26133.129415924966\n",
      "B.x >= C.x 3934.5495257514917 5784.67614035397 总长度：33217.99296544219\n",
      "B.x >= C.x 4213.458920481523 5784.67614035397 总长度：40951.67792206602\n",
      "B.x >= C.x 4470.459269753955 5784.67614035397 总长度：49283.21770678996\n",
      "B.x >= C.x 4707.271585058304 5784.67614035397 总长度：58165.64929558763\n",
      "B.x >= C.x 4925.481688035088 5784.67614035397 总长度：67555.69872994159\n",
      "B.x >= C.x 5126.550829983804 5784.67614035397 总长度：77413.49133132357\n",
      "B.x >= C.x 5311.8254771815045 5784.67614035397 总长度：87702.28467906745\n",
      "B.x >= C.x 5482.54632753947 5784.67614035397 总长度：98388.2225635126\n",
      "B.x >= C.x 5639.856618978567 5784.67614035397 总长度：109440.10826675624\n",
      "B.x >= C.x 5784.809785160472 5784.67614035397 总长度：120829.19565278199\n"
     ]
    }
   ],
   "source": [
    "求解1 = 求解(\n",
    "    坡度=ABC坡度,\n",
    "    海水总深度=abs(A.z),\n",
    "    斜坡地面长度=nm2m(20 / sqrt(41)),\n",
    "    长度计算函数=lambda x: 41 * x / 20,\n",
    ")"
   ]
  },
  {
   "cell_type": "code",
   "execution_count": 82,
   "metadata": {},
   "outputs": [
    {
     "name": "stdout",
     "output_type": "stream",
     "text": [
      "B.x >= C.x 288.9441501949572 5784.67614035397 总长度：0\n",
      "B.x >= C.x 542.8993021463331 5784.67614035397 总长度：299.67943072556665\n",
      "B.x >= C.x 791.4978797988042 5784.67614035397 总长度：1126.1398003645065\n",
      "B.x >= C.x 1034.852867228495 5784.67614035397 总长度：2468.2699295733237\n",
      "B.x >= C.x 1273.0748653836574 5784.67614035397 总长度：4315.1930026638565\n",
      "B.x >= C.x 1506.272142351055 5784.67614035397 总长度：6656.261624264566\n",
      "B.x >= C.x 1734.5506825620691 5784.67614035397 总长度：9481.052980249688\n",
      "B.x >= C.x 1958.0142349609055 5784.67614035397 总长度：12779.364100736984\n",
      "B.x >= C.x 2176.7643601568443 5784.67614035397 总长度：16541.207223001184\n",
      "B.x >= C.x 2390.900476581935 5784.67614035397 总长度：20756.80525219556\n",
      "B.x >= C.x 2600.519905675057 5784.67614035397 总长度：25416.58731781882\n",
      "B.x >= C.x 2805.7179161129316 5784.67614035397 总长度：30511.184423907565\n",
      "B.x >= C.x 3006.5877671082753 5784.67614035397 总长度：36031.42519097751\n",
      "B.x >= C.x 3203.220750794578 5784.67614035397 总长度：41968.33168777826\n",
      "B.x >= C.x 3395.7062337169177 5784.67614035397 总长度：48313.1153509672\n",
      "B.x >= C.x 3584.1316974476354 5784.67614035397 总长度：55057.17299084805\n",
      "B.x >= C.x 3768.582778345309 5784.67614035397 总长度：62192.0828813588\n",
      "B.x >= C.x 3949.1433064750995 5784.67614035397 总长度：69709.60093253198\n",
      "B.x >= C.x 4125.895343708198 5784.67614035397 总长度：77601.65694368762\n",
      "B.x >= C.x 4298.919221017594 5784.67614035397 总长度：85860.35093565623\n",
      "B.x >= C.x 4468.293574987255 5784.67614035397 总长度：94477.94956036459\n",
      "B.x >= C.x 4634.095383551181 5784.67614035397 总长度：103446.88258615283\n",
      "B.x >= C.x 4796.400000978626 5784.67614035397 总长度：112759.73945722522\n",
      "B.x >= C.x 4955.281192121456 5784.67614035397 总长度：122409.26592567116\n",
      "B.x >= C.x 5110.8111659390415 5784.67614035397 总长度：132388.36075452555\n",
      "B.x >= C.x 5263.060608316096 5784.67614035397 总长度：142690.07249037022\n",
      "B.x >= C.x 5412.098714188285 5784.67614035397 总长度：153307.59630400955\n",
      "B.x >= C.x 5557.993218990218 5784.67614035397 总长度：164234.27089778447\n",
      "B.x >= C.x 5700.810429440104 5784.67614035397 总长度：175463.5754781193\n",
      "B.x >= C.x 5840.6152536751 5784.67614035397 总长度：186989.12679192534\n"
     ]
    }
   ],
   "source": [
    "求解2 = 求解(\n",
    "    坡度=BCD坡度,\n",
    "    海水总深度=abs(D.z),\n",
    "    斜坡地面长度=nm2m(20 / sqrt(41)),\n",
    "    长度计算函数=lambda x: 41 * x / 20,\n",
    ")"
   ]
  },
  {
   "cell_type": "code",
   "execution_count": 83,
   "metadata": {},
   "outputs": [
    {
     "data": {
      "text/plain": [
       "11569.352280707939"
      ]
     },
     "execution_count": 83,
     "metadata": {},
     "output_type": "execute_result"
    }
   ],
   "source": [
    "跨越整个海域的额外长度 = nm2m(40 / sqrt(41))\n",
    "跨越整个海域的额外长度"
   ]
  },
  {
   "cell_type": "code",
   "execution_count": null,
   "metadata": {},
   "outputs": [],
   "source": []
  }
 ],
 "metadata": {
  "kernelspec": {
   "display_name": "base",
   "language": "python",
   "name": "python3"
  },
  "language_info": {
   "codemirror_mode": {
    "name": "ipython",
    "version": 3
   },
   "file_extension": ".py",
   "mimetype": "text/x-python",
   "name": "python",
   "nbconvert_exporter": "python",
   "pygments_lexer": "ipython3",
   "version": "3.9.17"
  },
  "orig_nbformat": 4
 },
 "nbformat": 4,
 "nbformat_minor": 2
}
